{
 "cells": [
  {
   "cell_type": "code",
   "execution_count": 1,
   "metadata": {
    "collapsed": true
   },
   "outputs": [],
   "source": [
    "from rwa_model import RWA\n",
    "from utils import CopyTask\n",
    "\n",
    "import torch\n",
    "import torch.nn as nn\n",
    "from torch.autograd import Variable\n",
    "import torch.optim as optim\n",
    "from torch.utils.data import DataLoader\n",
    "\n",
    "import numpy as np\n",
    "\n",
    "import matplotlib.pyplot as plt"
   ]
  },
  {
   "cell_type": "code",
   "execution_count": 2,
   "metadata": {},
   "outputs": [
    {
     "name": "stdout",
     "output_type": "stream",
     "text": [
      "[length: 10, epoch: 1, i:  1000] average loss: 0.089\n"
     ]
    }
   ],
   "source": [
    "num_inputs = 10\n",
    "batch = 1\n",
    "rwa = RWA(num_inputs, 250, num_inputs)\n",
    "n, d, h, a_max = rwa.init_internal(batch)\n",
    "\n",
    "rwa.train()\n",
    "\n",
    "criterion = nn.MSELoss()\n",
    "\n",
    "max_seq_len = 20\n",
    "current_lr = 1e-2\n",
    "print_steps = 1000\n",
    "optimizer = optim.Adam(rwa.parameters(), lr=current_lr)\n",
    "\n",
    "for length in range(10, max_seq_len, 2):\n",
    "    current_lr = 1e-3\n",
    "    running_loss = 0.0\n",
    "    accumulated_loss = []\n",
    "\n",
    "    test = CopyTask(length, [num_inputs, 1], num_samples=3e4)\n",
    "\n",
    "    data_loader = DataLoader(test, batch_size=batch, shuffle=True, num_workers=4)\n",
    "\n",
    "    for epoch in range(1):\n",
    "\n",
    "        for i, data in enumerate(data_loader, 0):\n",
    "\n",
    "            inputs, labels = data\n",
    "            inputs = Variable(inputs)\n",
    "            labels = Variable(labels)\n",
    "\n",
    "            rwa.zero_grad()\n",
    "            outputs, n, d, h, a_max = rwa(inputs, n, d, h, a_max)\n",
    "\n",
    "            n = Variable(n.data)\n",
    "            d = Variable(d.data)\n",
    "            h = Variable(h.data)\n",
    "            a_max = Variable(a_max.data)\n",
    "\n",
    "            loss = criterion(outputs, labels)\n",
    "            loss.backward()\n",
    "            optimizer.step()\n",
    "\n",
    "            running_loss += loss.data[0]\n",
    "            accumulated_loss.append(loss.data[0])\n",
    "\n",
    "            if i % print_steps == print_steps-1:\n",
    "                print('[length: %d, epoch: %d, i: %5d] average loss: %.3f' % (length, epoch + 1, i + 1,\n",
    "                                                                              running_loss / print_steps))\n",
    "\n",
    "                plottable_input = torch.squeeze(inputs.data[0]).numpy()\n",
    "                plottable_output = torch.squeeze(outputs.data[0]).numpy()\n",
    "                plottable_true_output = torch.squeeze(labels.data[0]).numpy()\n",
    "                plt.imshow(plottable_input)\n",
    "                plt.savefig(\"plots/{}_{}_{}_input.png\".format(length, epoch + 1, i + 1))\n",
    "                plt.close()\n",
    "                plt.imshow(plottable_output)\n",
    "                plt.savefig(\"plots/{}_{}_{}_net_output.png\".format(length, epoch + 1, i + 1))\n",
    "                plt.close()\n",
    "                plt.imshow(plottable_true_output)\n",
    "                plt.savefig(\"plots/{}_{}_{}_true_output.png\".format(length, epoch + 1, i + 1))\n",
    "                plt.close()\n",
    "\n",
    "                if np.mean(np.abs(np.diff(accumulated_loss))) <= 0.2 * current_lr:\n",
    "                    torch.save(rwa.state_dict(), \"models/copy_seqlen_{}.dat\".format(length))\n",
    "                    current_lr = max([current_lr * 1e-1, 1e-8])\n",
    "                    print(\"lr decayed to: \", current_lr)\n",
    "                    optimizer = optim.Adam(rwa.parameters(), lr=current_lr)\n",
    "                    accumulated_loss.clear()\n",
    "\n",
    "                running_loss = 0.0\n",
    "\n",
    "torch.save(rwa.state_dict(), \"models/rwacopy_seqlen_{}.dat\".format(max_seq_len))\n",
    "print(\"Finished Training\")"
   ]
  },
  {
   "cell_type": "code",
   "execution_count": null,
   "metadata": {},
   "outputs": [],
   "source": [
    ""
   ]
  }
 ],
 "metadata": {
  "kernelspec": {
   "display_name": "Python 2",
   "language": "python",
   "name": "python2"
  },
  "language_info": {
   "codemirror_mode": {
    "name": "ipython",
    "version": 2.0
   },
   "file_extension": ".py",
   "mimetype": "text/x-python",
   "name": "python",
   "nbconvert_exporter": "python",
   "pygments_lexer": "ipython2",
   "version": "2.7.6"
  }
 },
 "nbformat": 4,
 "nbformat_minor": 0
}