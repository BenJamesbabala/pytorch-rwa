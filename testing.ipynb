{
 "cells": [
  {
   "cell_type": "code",
   "execution_count": null,
   "metadata": {
    "collapsed": true
   },
   "outputs": [],
   "source": [
    "from rwa_model import RWA\n",
    "from utils import AddTask\n",
    "\n",
    "import torch\n",
    "import torch.nn as nn\n",
    "from torch.autograd import Variable\n",
    "import torch.optim as optim\n",
    "from torch.utils.data import DataLoader\n",
    "\n",
    "import numpy as np\n",
    "\n",
    "import matplotlib.pyplot as plt\n",
    "from tensorboard_logger import configure, log_value\n",
    "\n",
    "configure(\"training/more_weight_decay\")"
   ]
  },
  {
   "cell_type": "code",
   "execution_count": null,
   "metadata": {
    "collapsed": false
   },
   "outputs": [],
   "source": [
    "num_inputs = 2\n",
    "num_outputs = 1\n",
    "num_hidden = 250\n",
    "batch = 100\n",
    "rwa = RWA(num_inputs, num_hidden, num_outputs, fwd_type=\"cumulative\")  # something is bad\n",
    "\n",
    "rwa.train()\n",
    "\n",
    "criterion = nn.MSELoss()\n",
    "\n",
    "print_steps = 10\n",
    "\n",
    "current_lr = 1e-3\n",
    "\n",
    "running_loss = 0.0\n",
    "time_since_decay = 0\n",
    "accumulated_loss = []\n",
    "\n",
    "test = AddTask(100000, 10000, 100)\n",
    "\n",
    "data_loader = DataLoader(test, batch_size=batch, shuffle=True, num_workers=4)\n",
    "\n",
    "s, n, d, h, a_max = rwa.init_sndha(batch)\n",
    "rwa.register_parameter('s', s)  # make sure s changes after each optimizer step\n",
    "\n",
    "optimizer = optim.Adam(rwa.parameters(), lr=current_lr, weight_decay=1e-4)\n",
    "\n",
    "for epoch in range(10):\n",
    "    \n",
    "    for i, data in enumerate(data_loader, 0):\n",
    "\n",
    "        inputs, labels = data\n",
    "        inputs = Variable(inputs)\n",
    "        labels = Variable(labels)\n",
    "\n",
    "        rwa.zero_grad()\n",
    "        outputs, s, n, d, h, a_max = rwa(inputs, s, n, d, h, a_max)\n",
    "\n",
    "        loss = criterion(outputs, labels)\n",
    "        loss.backward()\n",
    "        optimizer.step()\n",
    "        \n",
    "        n = Variable(n.data)\n",
    "        d = Variable(d.data)\n",
    "        h = Variable(h.data)\n",
    "        a_max = Variable(a_max.data)\n",
    "\n",
    "        running_loss += loss.data[0]\n",
    "        accumulated_loss.append(loss.data[0])\n",
    "        time_since_decay += 1\n",
    "\n",
    "        if i % print_steps == print_steps-1:\n",
    "            current_step = i + 1 + len(data_loader) * epoch\n",
    "            log_value(\"Loss\", running_loss/print_steps, step=current_step)\n",
    "            log_value(\"LR\", current_lr, step=current_step)\n",
    "            log_value(\"Error\", np.abs(outputs.data[0, 0] - labels.data[0, 0]), step=current_step)\n",
    "\n",
    "#             if time_since_decay >= 0.3 * len(data_loader):\n",
    "#                 if np.abs(np.mean(np.diff(accumulated_loss))) <= current_lr:\n",
    "#                     torch.save(rwa.state_dict(), \"models/add.dat\")\n",
    "#                     current_lr = max([current_lr * 2e-1, 1e-8])\n",
    "#                     print(\"lr decayed to: \", current_lr)\n",
    "#                     optimizer = optim.Adam(rwa.parameters(), lr=current_lr, weight_decay=1e-4)\n",
    "#                     accumulated_loss.clear()\n",
    "#                     time_since_decay = 0\n",
    "                \n",
    "            running_loss = 0.0\n",
    "\n",
    "torch.save(rwa.state_dict(), \"models/rwa_add.dat\")\n",
    "print(\"Finished Training\")"
   ]
  },
  {
   "cell_type": "code",
   "execution_count": null,
   "metadata": {
    "collapsed": true
   },
   "outputs": [],
   "source": []
  }
 ],
 "metadata": {
  "kernelspec": {
   "display_name": "Python 3",
   "language": "python",
   "name": "python3"
  },
  "language_info": {
   "codemirror_mode": {
    "name": "ipython",
    "version": 3
   },
   "file_extension": ".py",
   "mimetype": "text/x-python",
   "name": "python",
   "nbconvert_exporter": "python",
   "pygments_lexer": "ipython3",
   "version": "3.6.0"
  }
 },
 "nbformat": 4,
 "nbformat_minor": 0
}
